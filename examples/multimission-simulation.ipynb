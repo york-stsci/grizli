{
 "cells": [
  {
   "cell_type": "markdown",
   "metadata": {},
   "source": [
    "Multimission Simulation\n",
    "-----------------------\n",
    "\n",
    "This notebook demonstrates two analysis capabilities of the `grizli` software:\n",
    "\n",
    "1. The capability of providing a reference image and SExtractor-like segmentation file created entirely independently from any given grism exposure.  The reference image is typically much deeper than a single direct image taken accompanying a grism exposure.  The code assumes that the grism file is astrometrically aligned to the reference image, but the reference image can have any pixel scale.\n",
    "\n",
    "2. Simulation tools for comparison of slitless spectroscopy from a number of different space-based missions and instruments, notably *HST*/WFC3-IR, *JWST*/NIRISS, and the *Roman* wide-field instrument.\n",
    "\n",
    "Here we take as an example the extremely deep WFC3 F140W imaging from the *Hubble* Ultra-Deep Field and processed by the [\"eXtreme Deep Field\"](http://xdf.ucolick.org/) project.  We use SExtractor (Bertin & Arnouts 1996) to detect objects in the deep image, creating a catlog and an accompanying segmentation image that defines which pixels are assigned to each object.\n",
    "\n",
    "The second half of the notebook demonstrates how to use the `grizli.fake_image` scripts to create WFC3, NIRISS, and Roman-sized cutouts extracted from the deep reference image.  Those cutouts are then used as the reference to simulate slitless spectra from those instruments."
   ]
  },
  {
   "cell_type": "code",
   "execution_count": null,
   "metadata": {},
   "outputs": [],
   "source": [
    "%matplotlib inline"
   ]
  },
  {
   "cell_type": "code",
   "execution_count": null,
   "metadata": {},
   "outputs": [],
   "source": [
    "import os\n",
    "from collections import OrderedDict\n",
    "\n",
    "import matplotlib as mpl    \n",
    "import matplotlib.pyplot as plt    \n",
    "import matplotlib.gridspec\n",
    "mpl.rcParams['figure.figsize'] = (10.0, 6.0)\n",
    "mpl.rcParams['font.size'] = 14\n",
    "mpl.rcParams['savefig.dpi'] = 72\n",
    "\n",
    "import numpy as np\n",
    "\n",
    "import astropy.io.fits as pyfits\n",
    "import astropy.wcs as pywcs\n",
    "from astropy.table import Table\n",
    "\n",
    "import drizzlepac\n",
    "import photutils\n",
    "\n",
    "import grizli\n",
    "import grizli.fake_image\n",
    "\n",
    "print('\\n grizli version: %s' %(grizli.__version__))"
   ]
  },
  {
   "cell_type": "code",
   "execution_count": null,
   "metadata": {},
   "outputs": [],
   "source": [
    "import requests\n",
    "import tarfile\n",
    "\n",
    "## Fetch the UDF images from the HLSP pages\n",
    "if \"grizli_operations_dir\" in os.environ:\n",
    "    os.chdir(os.environ[\"grizli_operations_dir\"])\n",
    "else:\n",
    "    os.chdir(\"/Users/york/Projects/grism_simulation/tmp\")\n",
    "# os.chdir('/tmp/')\n",
    "\n",
    "file_base = 'hlsp_xdf_hst_wfc3ir-60mas_hudf_f140w_v1_{}.fits'\n",
    "url = 'https://archive.stsci.edu/missions/hlsp/xdf'\n",
    "for file_ext in ['sci', 'wht']:\n",
    "    file_name = file_base.format(file_ext)\n",
    "    print(\"Checking for {}.\".format(file_name))\n",
    "    if not os.path.exists(file_name):\n",
    "        print(\"Retrieving {}\".format(file_name))\n",
    "        r = requests.get('{}/{}'.format(url, file_name), allow_redirects=True)\n",
    "        with open(file_name, 'wb') as output_file:\n",
    "            output_file.write(r.content)\n",
    "        if not os.path.exists(file_name):\n",
    "            raise FileNotFoundError(\"Can't find {}\".format(file_name))\n",
    "\n",
    "## Make SExtractor catalog\n",
    "print(\"Checking for segment catalog.\")\n",
    "if not os.path.exists('hlsp_xdf_hst_wfc3ir-60mas_hudf_f140w_v1_seg.fits'):\n",
    "    archive_file = \"grizli_xdf_sextractor.tar.gz\"\n",
    "    print(\"Retrieving {}.\".format(archive_file))\n",
    "    r = requests.get(\"http://www.stsci.edu/~brammer/grism/{}\".format(archive_file))\n",
    "    with open(archive_file, \"wb\") as output_file:\n",
    "        output_file.write(r.content)\n",
    "    with tarfile.open(archive_file) as input_file:\n",
    "        input_file.extractall()\n",
    "    sci_file = \"hlsp_xdf_hst_wfc3ir-60mas_hudf_f140w_v1_sci.fits\"\n",
    "    ext_file = \"hlsp_xdf_hst_wfc3ir-60mas_hudf_f140w_v1.sex\"\n",
    "    os.system('sex  {} -c {}'.format(sci_file, ext_file))\n",
    "\n",
    "## Need a WFC3/IR FLT file later\n",
    "print(\"Checking for WFC3/IR sample FLT file.\")\n",
    "if not os.path.exists('ibhj34h6q_flt.fits'):\n",
    "    archive_file = \"grizli_demo_data.tar.gz\"\n",
    "    print(\"Retrieving {}\".format(archive_file))\n",
    "    r = requests.get(\"http://www.stsci.edu/~brammer/grism/{}\".format(archive_file))\n",
    "    with open(archive_file, \"wb\") as output_file:\n",
    "        output_file.write(r.content)\n",
    "    with tarfile.open(archive_file) as input_file:\n",
    "        input_file.extractall()\n",
    "    sci_file = \"hlsp_xdf_hst_wfc3ir-60mas_hudf_f140w_v1_sci.fits\"\n",
    "    ext_file = \"hlsp_xdf_hst_wfc3ir-60mas_hudf_f140w_v1.sex\"\n",
    "    os.system('sex  {} -c {}'.format(sci_file, ext_file))\n"
   ]
  },
  {
   "cell_type": "code",
   "execution_count": null,
   "metadata": {},
   "outputs": [],
   "source": [
    "from grizli import model\n",
    "\n",
    "## Initialize the Grizli object, flt_file is the G141 exposure\n",
    "pad=120 # allow simulation of objects at the edges\n",
    "flt = model.GrismFLT(grism_file='ibhj34h8q_flt.fits', verbose=True, pad=pad,  \n",
    "                     ref_file='hlsp_xdf_hst_wfc3ir-60mas_hudf_f140w_v1_sci.fits', \n",
    "                     seg_file='hlsp_xdf_hst_wfc3ir-60mas_hudf_f140w_v1_seg.fits')"
   ]
  },
  {
   "cell_type": "markdown",
   "metadata": {},
   "source": [
    "The `pad` keyword above is used to extract a cutout from the reference image that is larger than the direct image itself so that objects can be accounted for and modeled that would otherwise \"fall off\" of the direct image but whose dispersed spectra fall on the grism images.  The figure below compares the direct image itself to the \"blotted\" reference image that contains an extra border of pixels around the edges."
   ]
  },
  {
   "cell_type": "code",
   "execution_count": null,
   "metadata": {},
   "outputs": [],
   "source": [
    "## Show the blotted reference direct image\n",
    "f140w = pyfits.open('ibhj34h6q_flt.fits')\n",
    "fig = plt.figure()\n",
    "\n",
    "ax = fig.add_subplot(131) # FLT exposure\n",
    "ax.imshow(f140w['SCI'].data, interpolation='Nearest', \n",
    "           origin='lower', vmin=-0.2, vmax=0.3, cmap='viridis')\n",
    "ax.set_title('F140W FLT')\n",
    "\n",
    "ax = fig.add_subplot(132) # Blotted reference image\n",
    "blotted = flt.direct.data['REF']/flt.direct.ref_photflam\n",
    "ax.imshow(blotted, interpolation='Nearest', \n",
    "           origin='lower', vmin=-0.2, vmax=0.3, cmap='viridis')\n",
    "ax.set_title('\"blotted\" XDF reference')\n",
    "\n",
    "ax = fig.add_subplot(133) # Grism\n",
    "ax.imshow(f140w['SCI'].data - blotted[pad:-pad, pad:-pad],\n",
    "           interpolation='Nearest', \n",
    "           origin='lower', vmin=-0.2, vmax=0.3, cmap='viridis')\n",
    "ax.set_title('Difference')\n",
    "\n",
    "for ax in fig.axes[1:]:\n",
    "    ax.set_yticklabels([])\n",
    "\n",
    "for i, ax in enumerate(fig.axes):\n",
    "    offset = (i != 1)*pad # First is (1014,1014), others are (1014+2*pad, 1014+2*pad)\n",
    "    ax.set_xlim(60-offset,360-offset)\n",
    "    ax.set_ylim(60-offset,360-offset)\n",
    "\n",
    "fig.tight_layout()"
   ]
  },
  {
   "cell_type": "markdown",
   "metadata": {},
   "source": [
    "Since the grism configuration files are all defined in detector coordinates, the `blot_catalog` function is used to compute the detector positions of the objects detected in the rectified reference image."
   ]
  },
  {
   "cell_type": "code",
   "execution_count": null,
   "metadata": {},
   "outputs": [],
   "source": [
    "## \"blotted\" SExtractor catalog, with catalog sky coordinates put into FLT frame\n",
    "ref_cat = Table.read(pyfits.open('hlsp_xdf_hst_wfc3ir-60mas_hudf_f140w_v1_sci.cat')[2])\n",
    "flt_cat = flt.blot_catalog(ref_cat, sextractor=True) # also stored in flt.catalog"
   ]
  },
  {
   "cell_type": "code",
   "execution_count": null,
   "metadata": {},
   "outputs": [],
   "source": [
    "## Compute flat-spectrum model of bright sources\n",
    "mask = flt_cat['MAG_AUTO'] < 27\n",
    "print('N=%d' %(mask.sum()))\n",
    "#flt.compute_full_model(compute_beams=['A','B','C','D','E','F'], mask=mask, verbose=False)\n",
    "flt.compute_full_model(ids=flt_cat['NUMBER'][mask], mags=flt_cat['MAG_AUTO'][mask])"
   ]
  },
  {
   "cell_type": "code",
   "execution_count": null,
   "metadata": {},
   "outputs": [],
   "source": [
    "# Compare to the actual G141 exposure\n",
    "fig = plt.figure()\n",
    "\n",
    "ax = fig.add_subplot(131)\n",
    "ax.imshow(flt.grism.data['SCI'], interpolation='Nearest', \n",
    "           origin='lower', vmin=-0.01, vmax=0.1, cmap='gray_r')\n",
    "ax.set_title('G141 exposure (1.1 ks)')\n",
    "\n",
    "ax = fig.add_subplot(132)\n",
    "ax.imshow(flt.model, interpolation='Nearest', \n",
    "           origin='lower', vmin=-0.01, vmax=0.1, cmap='gray_r')\n",
    "ax.set_title(r'Flat $f_\\lambda$ model')\n",
    "\n",
    "ax = fig.add_subplot(133)\n",
    "ax.imshow(flt.grism.data['SCI'] - flt.model, interpolation='Nearest', \n",
    "           origin='lower', vmin=-0.01, vmax=0.1, cmap='gray_r')\n",
    "ax.set_title('Difference')\n",
    "\n",
    "for ax in fig.axes[1:]:\n",
    "    ax.set_yticklabels([])\n",
    "\n",
    "# show lower corner and how objects are modeled right to the edge\n",
    "for ax in fig.axes:\n",
    "    ax.set_xlim(60,360)\n",
    "    ax.set_ylim(60,360)\n",
    "\n",
    "fig.tight_layout()"
   ]
  },
  {
   "cell_type": "markdown",
   "metadata": {},
   "source": [
    "The bright spectrum at lower left and the fainter spectrum at the top would not be modeled if just the single direct image were available.  However, they are included in the \"padded\" reference image and even the simple flat-spectrum model offers a reasonable first guess at the grism exposure model."
   ]
  },
  {
   "cell_type": "markdown",
   "metadata": {
    "collapsed": true
   },
   "source": [
    "Slitless spectra from multi-missions *JWST*/NIRISS and *Roman*\n",
    "---------------------------------------------------------------\n",
    "\n",
    "The examples below show how to first generate a \"dummy\" cutout image from the reference image, where the image itself is not cutout but rather the dummy images have appropriate WCS so that the `grizli.model.GrismFLT` will then be able to blot the reference and segmentation images.  \n",
    "\n",
    "The image headers specify default values of the per-pixel sky backgrounds that are adopted with `make_fake_image(background='auto')`, that parameter can also be set to any desired float value.  The `make_fake_image` generating script has parameters `exptime` and `nexp` that are the used to define a simple noise model for the resulting simulation.  \n",
    "\n",
    "$\\sigma^2 = \\mathrm{sky}\\cdot\\mathrm{exptime} + N_\\mathrm{exp}\\cdot\\mathrm{readnoise}$\n",
    "\n",
    "The value of $\\sigma$ is stored in the `ERR` extension and random Gaussian deviates are put into the `SCI` extension of the `output` FITS files that are useful later for adding noise to the noiseless simulated spectra.\n",
    "\n",
    "Again, these examples simulate grism exposures from the different missions/instruments with simple flat-spectrum SEDs with normalization set by the UDF F140W image (at 1.4 µm).  However, it is straightforward to use *any* spectrum (i.e., stellar or galaxy templates) for any given object model."
   ]
  },
  {
   "cell_type": "code",
   "execution_count": null,
   "metadata": {},
   "outputs": [],
   "source": [
    "### Fake images, cendered in the UDF/XDF\n",
    "ra, dec = 53.1592277508136, -27.782056346146\n",
    "pa_aper = 128.589\n",
    "\n",
    "# allow simulation of objects at the edges\n",
    "pad=0 # pixels\n",
    "\n",
    "mag_limit = 25 # faint limit for the simulation\n",
    "np.random.seed(1)\n",
    "EXPTIME = 1.e4 # 10 ks ~ 4 HST orbits\n",
    "NEXP = 10      # divided between 10 exposures"
   ]
  },
  {
   "cell_type": "code",
   "execution_count": null,
   "metadata": {},
   "outputs": [],
   "source": [
    "### WFC3/IR G141\n",
    "h, wcs = grizli.fake_image.wfc3ir_header(filter='G141', ra=ra, dec=dec, pa_aper=pa_aper,\n",
    "                                         flt='ibhj34h6q_flt.fits')\n",
    "grizli.fake_image.make_fake_image(h, output='wfc3ir.fits', exptime=EXPTIME, nexp=NEXP)\n",
    "\n",
    "wfc3 = grizli.model.GrismFLT(grism_file='wfc3ir.fits', verbose=True, pad=pad,  \n",
    "                           ref_file='hlsp_xdf_hst_wfc3ir-60mas_hudf_f140w_v1_sci.fits', \n",
    "                           seg_file='hlsp_xdf_hst_wfc3ir-60mas_hudf_f140w_v1_seg.fits')\n",
    "\n",
    "wfc3_cat = wfc3.blot_catalog(ref_cat, sextractor=True) # also stored in flt.catalog\n",
    "wfc3.catalog = wfc3_cat\n",
    "\n",
    "mask = wfc3_cat['MAG_AUTO'] < mag_limit\n",
    "print('N=%d' %(mask.sum()))\n",
    "#wfc3.compute_full_model(compute_beams=['A','B','C','D','E','F'], mask=mask, verbose=False)\n",
    "wfc3.compute_full_model(ids=wfc3_cat['NUMBER'][mask], mags=wfc3_cat['MAG_AUTO'][mask])"
   ]
  },
  {
   "cell_type": "code",
   "execution_count": null,
   "metadata": {
    "scrolled": true
   },
   "outputs": [],
   "source": [
    "### JWST NIRISS\n",
    "h, wcs = grizli.fake_image.niriss_header(filter='F150W', ra=ra, dec=dec, pa_aper=pa_aper)\n",
    "grizli.fake_image.make_fake_image(h, output='niriss.fits', exptime=EXPTIME, nexp=NEXP)\n",
    "\n",
    "niriss = grizli.model.GrismFLT(grism_file='niriss.fits', verbose=True, pad=pad,  \n",
    "                           ref_file='hlsp_xdf_hst_wfc3ir-60mas_hudf_f140w_v1_sci.fits', \n",
    "                           seg_file='hlsp_xdf_hst_wfc3ir-60mas_hudf_f140w_v1_seg.fits')\n",
    "\n",
    "niriss_cat = niriss.blot_catalog(ref_cat, sextractor=True) # also stored in flt.catalog\n",
    "niriss.catalog = niriss_cat\n",
    "\n",
    "mask = niriss_cat['MAG_AUTO'] < mag_limit\n",
    "print('N=%d' %(mask.sum()))\n",
    "#niriss.compute_full_model(compute_beams=['A','B','C','D','E'], mask=mask, verbose=False)\n",
    "niriss.compute_full_model(ids=niriss_cat['NUMBER'][mask], mags=niriss_cat['MAG_AUTO'][mask])"
   ]
  },
  {
   "cell_type": "code",
   "execution_count": null,
   "metadata": {},
   "outputs": [],
   "source": [
    "### Roman GRS grism\n",
    "h, wcs = grizli.fake_image.wfi_header(ra=ra, dec=dec, pa_aper=pa_aper, naxis=(4096, 4096))\n",
    "grizli.fake_image.make_fake_image(h, output='roman.fits', exptime=EXPTIME, nexp=NEXP)\n",
    "\n",
    "roman = grizli.model.GrismFLT(grism_file='roman.fits', verbose=True, pad=pad,  \n",
    "                              ref_file='hlsp_xdf_hst_wfc3ir-60mas_hudf_f140w_v1_sci.fits', \n",
    "                              seg_file='hlsp_xdf_hst_wfc3ir-60mas_hudf_f140w_v1_seg.fits')\n",
    "\n",
    "roman_cat = roman.blot_catalog(ref_cat, sextractor=True) \n",
    "roman.catalog = roman_cat\n",
    "\n",
    "mask = roman_cat['MAG_AUTO'] < mag_limit\n",
    "print('N=%d' %(mask.sum()))\n",
    "#roman.compute_full_model(compute_beams=['A'], mask=mask, verbose=False)\n",
    "roman.compute_full_model(ids=roman_cat['NUMBER'][mask], mags=roman_cat['MAG_AUTO'][mask])"
   ]
  },
  {
   "cell_type": "code",
   "execution_count": null,
   "metadata": {},
   "outputs": [],
   "source": [
    "### Show them!\n",
    "# Compare to the actual G141 exposure\n",
    "fig = plt.figure(figsize=[10,10.*2/3])\n",
    "\n",
    "# for i, sim in enumerate([wfc3, niriss, roman]):\n",
    "for i, sim in enumerate([roman]):\n",
    "    # Direct\n",
    "    axt = fig.add_subplot(231+i)\n",
    "    axt.imshow(sim.direct.data['REF']/sim.direct.ref_photflam, interpolation='Nearest', \n",
    "           origin='lower', vmin=-0.1, vmax=0.2, cmap='viridis')\n",
    "    axt.set_xticklabels([])\n",
    "    \n",
    "    # Grism\n",
    "    axb = fig.add_subplot(234+i)\n",
    "    axb.imshow(sim.model + sim.grism.data['SCI'], interpolation='Nearest', \n",
    "           origin='lower', vmin=-0.01, vmax=0.1, cmap='gray_r')\n",
    "    axb.set_title('%s - %s' %(sim.grism.instrument, sim.grism.filter))\n",
    "    \n",
    "    if i > 0:\n",
    "        axt.set_yticklabels([])\n",
    "        axb.set_yticklabels([])\n",
    "\n",
    "fig.tight_layout(pad=0.5)"
   ]
  },
  {
   "cell_type": "markdown",
   "metadata": {},
   "source": [
    "The NIRISS spectra with the blocking filters take up much less detector real estate than the WFC3/G141 and (especially) the Roman spectra."
   ]
  },
  {
   "cell_type": "markdown",
   "metadata": {},
   "source": [
    "Pull out an object and simulate a spectrum with lines\n",
    "-----------------------------------------------------\n",
    "\n",
    "As in the other demonstration notebooks, we now show how to \"extract\" a single object spectrum and compute a more detailed spectral model for that object, in this case a young star-forming galaxy with strong emission lines."
   ]
  },
  {
   "cell_type": "code",
   "execution_count": null,
   "metadata": {
    "scrolled": false
   },
   "outputs": [],
   "source": [
    "## Find the object ID near coordinates (r0,d0), \n",
    "## SExtractor IDs might not be constant across platforms\n",
    "r0, d0 = 53.159868, -27.785791\n",
    "r0, d0 = 53.160473, -27.786294 # H~23, works well\n",
    "#r0, d0 = 53.155611, -27.779308 # bright\n",
    "dr = np.sqrt((ref_cat['X_WORLD']-r0)**2*np.cos(d0/180*np.pi)**2 + \n",
    "             (ref_cat['Y_WORLD']-d0)**2)*3600\n",
    "id = ref_cat['NUMBER'][np.argmin(dr)]\n",
    "obj_mag = ref_cat['MAG_AUTO'][np.argmin(dr)]\n",
    "print('ID:%d, mag=%.2f' %(id, obj_mag))\n",
    "\n",
    "beams = OrderedDict()\n",
    "\n",
    "# for i, sim in enumerate([wfc3, niriss, roman]):\n",
    "for i, sim in enumerate([roman]):\n",
    "    ix = sim.catalog['id'] == id\n",
    "    x0, y0 = sim.catalog['x_flt'][ix][0], sim.catalog['y_flt'][ix][0]\n",
    "    print(sim.direct.instrument, x0, y0)\n",
    "    #dim = 18*0.135/sim.flt_wcs.pscale \n",
    "    #beam = grizli.model.BeamCutout(id=id, x=x0, y=y0, \n",
    "    #                               cutout_dimensions=np.cast[int]((dim, dim)), \n",
    "    #                               conf=sim.conf, GrismFLT=sim)\n",
    "    \n",
    "    cutout = grizli.model.BeamCutout(sim, sim.object_dispersers[id][2]['A']) \n",
    "\n",
    "    cutout.beam.compute_model()  \n",
    "    cutout.contam = cutout.beam.cutout_from_full_image(sim.model)\n",
    "    if id in sim.object_dispersers:\n",
    "        cutout.contam -= cutout.beam.model\n",
    "    \n",
    "    beams[sim.grism.instrument] = cutout"
   ]
  },
  {
   "cell_type": "code",
   "execution_count": null,
   "metadata": {},
   "outputs": [],
   "source": [
    "## Spectrum with lines & noise\n",
    "spectrum_file = os.path.join(os.path.dirname(grizli.__file__), 'data/templates/erb2010.dat')\n",
    "erb = np.loadtxt(spectrum_file, unpack=True)\n",
    "z = 2.0 # test redshift\n",
    "\n",
    "## normalize spectrum to unity to use normalization defined in the direct image\n",
    "import pysynphot as S\n",
    "spec = S.ArraySpectrum(erb[0], erb[1], fluxunits='flam')\n",
    "spec = spec.redshift(z).renorm(1., 'flam', S.ObsBandpass('wfc3,ir,f140w'))\n",
    "spec.convert('flam') # bug in pysynphot, now units being converted automatically above? (11/10/16)\n",
    "\n",
    "fig = plt.figure()\n",
    "for i, key in enumerate(beams.keys()):\n",
    "    #     beams[key].compute_model(beams[key].thumb, id=beams[key].id, \n",
    "    #                              xspec=spec.wave, yspec=spec.flux)\n",
    "    beams[key].beam.compute_model(spectrum_1d=[spec.wave, spec.flux]) \n",
    "    \n",
    "    axl = fig.add_subplot(321+i*2)\n",
    "    axl.imshow(beams[key].model + beams[key].grism.data['SCI']*1, interpolation='Nearest', \n",
    "           origin='lower', vmin=-0.006, vmax=0.16, cmap='gray_r', aspect='auto')\n",
    "    \n",
    "    axr = fig.add_subplot(321+i*2+1)\n",
    "    axr.imshow(beams[key].contam + beams[key].grism.data['SCI'] + beams[key].model, \n",
    "               interpolation='Nearest', \n",
    "               origin='lower', vmin=-0.006, vmax=0.16, cmap='gray_r', aspect='auto')\n",
    "    \n",
    "    axl.set_title('%s - %s' %(key, beams[key].grism.filter))\n",
    "    for ax in [axl, axr]:\n",
    "        beams[key].beam.twod_axis_labels(wscale=1.e4, mpl_axis=ax)\n",
    "        beams[key].beam.twod_xlim(1.3,1.75, wscale=1.e4, mpl_axis=ax)\n",
    "        if i < 2:\n",
    "            ax.set_xticklabels([])\n",
    "        else:\n",
    "            ax.set_xlabel(r'$\\lambda$')\n",
    "\n",
    "fig.tight_layout(pad=0.5)"
   ]
  },
  {
   "cell_type": "code",
   "execution_count": null,
   "metadata": {},
   "outputs": [],
   "source": [
    "### Plot 1D spectra\n",
    "for i, key in enumerate(beams.keys()):\n",
    "    w, f, e = beams[key].beam.optimal_extract(beams[key].model+beams[key].grism.data['SCI'], bin=0)\n",
    "    plt.plot(w/1.e4, f, label='%s - %s' %(key, beams[key].grism.filter), \n",
    "             alpha=0.6, linestyle='steps-mid')\n",
    "\n",
    "plt.legend(fontsize=14)\n",
    "plt.xlim(0.9, 2.05)\n",
    "plt.xlabel(r'$\\lambda$')"
   ]
  },
  {
   "cell_type": "markdown",
   "metadata": {},
   "source": [
    "The differences between the properties of the slitless spectra from the various instruments/telescopes are dramatic.  With the large telescope aperture, the NIRISS spectrum is clearly the highest S/N in both the line and continuum, though at quite low spectral resolution.  In practice the effective NIRISS spectral resolution may be a bit better than this simulation would suggest, where the object morphology is barely, if at all, resolved at *HST* resolution.\n",
    "\n",
    "The G141 and Roman spectra show similar count rates in the line, but at high spectral resolution the Roman continuum is essentially lost (at native resolution).  Though with the huge spectra the Roman contamination can be problematic, the [OIII] and H$\\beta$ lines are nicely resolved and poke out above the smooth continuum."
   ]
  }
 ],
 "metadata": {
  "kernelspec": {
   "display_name": "Python 3",
   "language": "python",
   "name": "python3"
  },
  "language_info": {
   "codemirror_mode": {
    "name": "ipython",
    "version": 3
   },
   "file_extension": ".py",
   "mimetype": "text/x-python",
   "name": "python",
   "nbconvert_exporter": "python",
   "pygments_lexer": "ipython3",
   "version": "3.9.1"
  }
 },
 "nbformat": 4,
 "nbformat_minor": 1
}
